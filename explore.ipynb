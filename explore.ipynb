{
 "cells": [
  {
   "cell_type": "code",
   "execution_count": 75,
   "metadata": {},
   "outputs": [],
   "source": [
    "#https://www.kaggle.com/code/kaustubhshirpurkar/exploring-titanic-data-using-pandas-dataframes\n",
    "#check previous page\n",
    "\n",
    "import pandas as pd\n",
    "import numpy as np\n",
    "\n",
    "train = pd.read_csv('titanic/train.csv')\n",
    "test = pd.read_csv('titanic/test.csv')\n"
   ]
  },
  {
   "cell_type": "code",
   "execution_count": 76,
   "metadata": {},
   "outputs": [
    {
     "name": "stdout",
     "output_type": "stream",
     "text": [
      "<class 'pandas.core.frame.DataFrame'>\n",
      "RangeIndex: 891 entries, 0 to 890\n",
      "Data columns (total 12 columns):\n",
      " #   Column       Non-Null Count  Dtype  \n",
      "---  ------       --------------  -----  \n",
      " 0   PassengerId  891 non-null    int64  \n",
      " 1   Survived     891 non-null    int64  \n",
      " 2   Pclass       891 non-null    int64  \n",
      " 3   Name         891 non-null    object \n",
      " 4   Sex          891 non-null    object \n",
      " 5   Age          714 non-null    float64\n",
      " 6   SibSp        891 non-null    int64  \n",
      " 7   Parch        891 non-null    int64  \n",
      " 8   Ticket       891 non-null    object \n",
      " 9   Fare         891 non-null    float64\n",
      " 10  Cabin        204 non-null    object \n",
      " 11  Embarked     889 non-null    object \n",
      "dtypes: float64(2), int64(5), object(5)\n",
      "memory usage: 83.7+ KB\n"
     ]
    }
   ],
   "source": [
    "train.info()"
   ]
  },
  {
   "cell_type": "code",
   "execution_count": 77,
   "metadata": {},
   "outputs": [
    {
     "name": "stdout",
     "output_type": "stream",
     "text": [
      "<class 'pandas.core.frame.DataFrame'>\n",
      "RangeIndex: 418 entries, 0 to 417\n",
      "Data columns (total 11 columns):\n",
      " #   Column       Non-Null Count  Dtype  \n",
      "---  ------       --------------  -----  \n",
      " 0   PassengerId  418 non-null    int64  \n",
      " 1   Pclass       418 non-null    int64  \n",
      " 2   Name         418 non-null    object \n",
      " 3   Sex          418 non-null    object \n",
      " 4   Age          332 non-null    float64\n",
      " 5   SibSp        418 non-null    int64  \n",
      " 6   Parch        418 non-null    int64  \n",
      " 7   Ticket       418 non-null    object \n",
      " 8   Fare         417 non-null    float64\n",
      " 9   Cabin        91 non-null     object \n",
      " 10  Embarked     418 non-null    object \n",
      "dtypes: float64(2), int64(4), object(5)\n",
      "memory usage: 36.0+ KB\n"
     ]
    }
   ],
   "source": [
    "test.info()"
   ]
  },
  {
   "cell_type": "code",
   "execution_count": 78,
   "metadata": {},
   "outputs": [
    {
     "data": {
      "text/plain": [
       "PassengerId      0\n",
       "Survived         0\n",
       "Pclass           0\n",
       "Name             0\n",
       "Sex              0\n",
       "Age            177\n",
       "SibSp            0\n",
       "Parch            0\n",
       "Ticket           0\n",
       "Fare             0\n",
       "Cabin          687\n",
       "Embarked         2\n",
       "dtype: int64"
      ]
     },
     "execution_count": 78,
     "metadata": {},
     "output_type": "execute_result"
    }
   ],
   "source": [
    "train.isnull().sum()"
   ]
  },
  {
   "cell_type": "code",
   "execution_count": 79,
   "metadata": {},
   "outputs": [
    {
     "data": {
      "text/plain": [
       "PassengerId      0\n",
       "Pclass           0\n",
       "Name             0\n",
       "Sex              0\n",
       "Age             86\n",
       "SibSp            0\n",
       "Parch            0\n",
       "Ticket           0\n",
       "Fare             1\n",
       "Cabin          327\n",
       "Embarked         0\n",
       "dtype: int64"
      ]
     },
     "execution_count": 79,
     "metadata": {},
     "output_type": "execute_result"
    }
   ],
   "source": [
    "test.isnull().sum()"
   ]
  },
  {
   "cell_type": "code",
   "execution_count": 93,
   "metadata": {},
   "outputs": [
    {
     "name": "stdout",
     "output_type": "stream",
     "text": [
      "PassengerId\n",
      "891\n",
      "Survived\n",
      "2\n",
      "Pclass\n",
      "3\n",
      "Name\n",
      "891\n",
      "Sex\n",
      "2\n",
      "Age\n",
      "88\n",
      "SibSp\n",
      "7\n",
      "Parch\n",
      "7\n",
      "Ticket\n",
      "681\n",
      "Fare\n",
      "248\n",
      "Cabin\n",
      "147\n",
      "Embarked\n",
      "3\n",
      "FareBand\n",
      "3\n",
      "AgeBand\n",
      "3\n"
     ]
    }
   ],
   "source": [
    "cols=train.columns\n",
    "\n",
    "for lab in cols :\n",
    "    print(lab)\n",
    "    print(len(train[lab].unique()))\n"
   ]
  },
  {
   "cell_type": "code",
   "execution_count": 81,
   "metadata": {},
   "outputs": [
    {
     "name": "stdout",
     "output_type": "stream",
     "text": [
      "Index(['PassengerId', 'Survived', 'Pclass', 'Age', 'SibSp', 'Parch', 'Fare'], dtype='object')\n",
      "Index(['Name', 'Sex', 'Ticket', 'Cabin', 'Embarked'], dtype='object')\n",
      "Index(['PassengerId', 'Pclass', 'Age', 'SibSp', 'Parch', 'Fare'], dtype='object')\n",
      "Index(['Name', 'Sex', 'Ticket', 'Cabin', 'Embarked'], dtype='object')\n"
     ]
    }
   ],
   "source": [
    "numbers_train = train.select_dtypes(np.number)\n",
    "cad_train = train.select_dtypes(exclude=[np.number])\n",
    "print(numbers_train.columns)\n",
    "print(cad_train.columns)\n",
    "\n",
    "numbers_test = test.select_dtypes(np.number)\n",
    "cad_test = test.select_dtypes(exclude=[np.number])\n",
    "print(numbers_test.columns)\n",
    "print(cad_test.columns)\n"
   ]
  },
  {
   "cell_type": "code",
   "execution_count": 82,
   "metadata": {},
   "outputs": [
    {
     "name": "stdout",
     "output_type": "stream",
     "text": [
      "PassengerId    0\n",
      "Survived       0\n",
      "Pclass         0\n",
      "Name           0\n",
      "Sex            0\n",
      "Age            0\n",
      "SibSp          0\n",
      "Parch          0\n",
      "Ticket         0\n",
      "Fare           0\n",
      "Cabin          0\n",
      "Embarked       0\n",
      "dtype: int64\n",
      "\n",
      "PassengerId    0\n",
      "Pclass         0\n",
      "Name           0\n",
      "Sex            0\n",
      "Age            0\n",
      "SibSp          0\n",
      "Parch          0\n",
      "Ticket         0\n",
      "Fare           0\n",
      "Cabin          0\n",
      "Embarked       0\n",
      "dtype: int64\n"
     ]
    }
   ],
   "source": [
    "NUMERIC_COLUMNS = train.select_dtypes(np.number)\n",
    "CATEGORICAL_COLUMNS = train.select_dtypes(exclude=[np.number])\n",
    "    \n",
    "    #FILL NANS TRAIN DATA\n",
    "    \n",
    "for num in NUMERIC_COLUMNS:\n",
    "    if (num != 'Survived') :\n",
    "        train.loc[train['Survived']==0,num] = train.loc[train['Survived']==0,num].fillna(train.loc[train['Survived']==0,num].median())\n",
    "        train.loc[train['Survived']==1,num] = train.loc[train['Survived']==1,num].fillna(train.loc[train['Survived']==1,num].median())\n",
    "    \n",
    "for cat in CATEGORICAL_COLUMNS:\n",
    "    train.loc[train['Survived']==0,cat] = train.loc[train['Survived']==0,cat].fillna(train.loc[train['Survived']==0,cat].mode()[0])\n",
    "    train.loc[train['Survived']==1,cat] = train.loc[train['Survived']==1,cat].fillna(train.loc[train['Survived']==1,cat].mode()[0])\n",
    "    \n",
    "\n",
    "print(train.isnull().sum())\n",
    "print()\n",
    "NUMERIC_COLUMNS = numbers_test.columns\n",
    "CATEGORICAL_COLUMNS = cad_test.columns\n",
    "\n",
    "test.loc[:, NUMERIC_COLUMNS] = test.loc[:, NUMERIC_COLUMNS].fillna(-1)\n",
    "test.loc[:, CATEGORICAL_COLUMNS] = test.loc[:, CATEGORICAL_COLUMNS].fillna('no info')\n",
    "\n",
    "print(test.isnull().sum())"
   ]
  },
  {
   "cell_type": "code",
   "execution_count": 83,
   "metadata": {},
   "outputs": [
    {
     "name": "stdout",
     "output_type": "stream",
     "text": [
      "[[  1.       0.       3.     ...   7.25    56.       2.    ]\n",
      " [  2.       1.       1.     ...  71.2833  81.       0.    ]\n",
      " [  3.       1.       3.     ...   7.925   47.       2.    ]\n",
      " ...\n",
      " [889.       0.       3.     ...  23.45    56.       2.    ]\n",
      " [890.       1.       1.     ...  30.      60.       0.    ]\n",
      " [891.       0.       3.     ...   7.75    56.       1.    ]]\n"
     ]
    }
   ],
   "source": [
    "from sklearn.preprocessing import LabelEncoder\n",
    "\n",
    "def convert_data(ofus_matrix):\n",
    "\n",
    "    matrix = np.zeros(ofus_matrix.shape) -1\n",
    "\n",
    "    for i in range(ofus_matrix.shape[1]):\n",
    "        attributes = ofus_matrix[:,i]\n",
    "        if ( isinstance(attributes[0], (int, float)) == False):\n",
    "            le = LabelEncoder()\n",
    "            le.fit(attributes)\n",
    "            matrix[:,i] = le.transform(attributes)\n",
    "            \n",
    "        else:\n",
    "            matrix[:,i] = np.nan_to_num(attributes)\n",
    "    return matrix\n",
    "\n",
    "train_numpy= convert_data(train.to_numpy())\n",
    "print(train_numpy)"
   ]
  },
  {
   "cell_type": "code",
   "execution_count": 31,
   "metadata": {},
   "outputs": [
    {
     "name": "stdout",
     "output_type": "stream",
     "text": [
      "count    891.000000\n",
      "mean      23.600640\n",
      "std       17.867496\n",
      "min       -1.000000\n",
      "25%        6.000000\n",
      "50%       24.000000\n",
      "75%       35.000000\n",
      "max       80.000000\n",
      "Name: Age, dtype: float64\n",
      "\n",
      "[1. 2. 3.]\n"
     ]
    }
   ],
   "source": [
    "print(train['Age'].describe())\n",
    "train.loc[train['Age']<0,'Age'] = 0\n",
    "train.loc[ (train['Age']>=0) & (train['Age']<=30) ,'Age'] = 1\n",
    "train.loc[ (train['Age']>30) & (train['Age']<=50) ,'Age'] = 2\n",
    "train.loc[train['Age']>50,'Age'] = 3\n",
    "print()\n",
    "print(train['Age'].unique())"
   ]
  },
  {
   "cell_type": "code",
   "execution_count": 89,
   "metadata": {},
   "outputs": [
    {
     "name": "stdout",
     "output_type": "stream",
     "text": [
      "Sex    female  male\n",
      "Cabin              \n",
      "A10         0     1\n",
      "A14         0     1\n",
      "A16         1     0\n",
      "A19         0     1\n",
      "A20         0     1\n",
      "...       ...   ...\n",
      "F33         3     0\n",
      "F38         0     1\n",
      "F4          1     1\n",
      "G6          4     0\n",
      "T           0     1\n",
      "\n",
      "[147 rows x 2 columns]\n",
      "         Fare  Survived\n",
      "0      0.0000  0.066667\n",
      "1      4.0125  0.000000\n",
      "2      5.0000  0.000000\n",
      "3      6.2375  0.000000\n",
      "4      6.4375  0.000000\n",
      "..        ...       ...\n",
      "243  227.5250  0.750000\n",
      "244  247.5208  0.500000\n",
      "245  262.3750  1.000000\n",
      "246  263.0000  0.500000\n",
      "247  512.3292  1.000000\n",
      "\n",
      "[248 rows x 2 columns]\n",
      "          FareBand  Survived\n",
      "0  (-0.001, 8.662]  0.198052\n",
      "1    (8.662, 26.0]  0.402778\n",
      "2  (26.0, 512.329]  0.559322\n",
      "         AgeBand  Survived\n",
      "0  (0.419, 25.0]  0.411960\n",
      "1   (25.0, 31.0]  0.335526\n",
      "2   (31.0, 80.0]  0.405594\n"
     ]
    }
   ],
   "source": [
    "\n",
    "print(pd.crosstab(train['Cabin'], train['Sex']))\n",
    "\n",
    "train['FareBand'] = pd.qcut(train['Fare'],3)\n",
    "train['AgeBand'] = pd.qcut(train['Age'],3)\n",
    "\n",
    "print(train[['Fare', 'Survived']].groupby(['Fare'], as_index=False).mean().sort_values(by='Fare', ascending=True))\n",
    "print(train[['FareBand', 'Survived']].groupby(['FareBand'], as_index=False).mean().sort_values(by='FareBand', ascending=True))\n",
    "print(train[['AgeBand', 'Survived']].groupby(['AgeBand'], as_index=False).mean().sort_values(by='AgeBand', ascending=True))"
   ]
  },
  {
   "cell_type": "code",
   "execution_count": null,
   "metadata": {},
   "outputs": [],
   "source": []
  }
 ],
 "metadata": {
  "kernelspec": {
   "display_name": "Python 3",
   "language": "python",
   "name": "python3"
  },
  "language_info": {
   "codemirror_mode": {
    "name": "ipython",
    "version": 3
   },
   "file_extension": ".py",
   "mimetype": "text/x-python",
   "name": "python",
   "nbconvert_exporter": "python",
   "pygments_lexer": "ipython3",
   "version": "3.7.6"
  }
 },
 "nbformat": 4,
 "nbformat_minor": 4
}
